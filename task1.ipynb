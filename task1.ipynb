{
 "cells": [
  {
   "cell_type": "code",
   "execution_count": null,
   "metadata": {},
   "outputs": [],
   "source": [
    "word = input(\"\\nType in a word: \")\n",
    "anagram = input(\"\\nType in an anagram of your word: \")\n",
    "print(sorted(word))\n",
    "\n",
    "if sorted(word)  == sorted(anagram):\n",
    "    print(\"\\nIt is an anagram\")\n",
    "else:\n",
    "    print(\"It is not an anagram\")"
   ]
  },
  {
   "cell_type": "markdown",
   "metadata": {},
   "source": [
    "from string import ascii_letters\n",
    "\n",
    "alphabets = list(ascii_letters)\n",
    "\n",
    "text = input(\"Type something: \")\n",
    "shift = int(input(\"shift = \"))\n",
    "result = \"\"\n",
    "\n",
    "for letter in text:\n",
    "    if letter.isupper():\n",
    "        if alphabets.index(letter) + shift <= 51:\n",
    "            letter = alphabets[alphabets.index(letter) + shift]\n",
    "            result += letter\n",
    "        else:\n",
    "            letter = alphabets[alphabets.index(letter) + shift - 26]\n",
    "            result += letter\n",
    "\n",
    "\n",
    "    elif letter.islower():    \n",
    "        if alphabets.index(letter) + shift <= 25:\n",
    "            letter = alphabets[alphabets.index(letter) + shift]\n",
    "            result += letter\n",
    "        else:\n",
    "            letter = alphabets[alphabets.index(letter) + shift - 26]\n",
    "            result += letter\n",
    "\n",
    "    else:\n",
    "        result += letter\n",
    "\n",
    "print(result)\n",
    "\n"
   ]
  },
  {
   "cell_type": "code",
   "execution_count": null,
   "metadata": {},
   "outputs": [],
   "source": [
    "#coleman lieu\n",
    "from string import punctuation\n",
    "\n",
    "text = input(\"Type in your text\\n\")\n",
    "words = text.split()\n",
    "sentences = text.count(\".\")\n",
    "clean_words = []\n",
    "punc = list(punctuation)\n",
    "\n",
    "for word in words:\n",
    "    if word not in punc:\n",
    "        clean_words.append(word)\n",
    "\n",
    "letters = 0\n",
    "\n",
    "for wrd in clean_words:\n",
    "    for char in wrd:\n",
    "        if char not in punc:\n",
    "            letters += 1\n",
    "\n",
    "avg_letters = (letters/len(clean_words))*100\n",
    "\n",
    "avg_sentences = float((sentences/len(clean_words))*100)\n",
    "\n",
    "Colemanlieu = round(float((0.0588*avg_letters) - (0.296*avg_sentences) -15.8),2)\n",
    "    \n",
    "print(\"Your Colemanlieu will be =\", Colemanlieu)"
   ]
  },
  {
   "cell_type": "code",
   "execution_count": null,
   "metadata": {},
   "outputs": [],
   "source": [
    "def factorial(num):\n",
    "    if num <= 1:\n",
    "        return 1\n",
    "    else:\n",
    "        return int(num)*((factorial(int(num)-1)))\n",
    "n = int(input(\"Give a number \"))\n",
    "print(factorial(n))"
   ]
  },
  {
   "cell_type": "code",
   "execution_count": null,
   "metadata": {},
   "outputs": [],
   "source": [
    "def fibonacci(n):\n",
    "    if n<=2:\n",
    "        return 1\n",
    "    else:\n",
    "        return fibonacci(n-1)+fibonacci(n-2)\n",
    "x=int(input(\"till what range do you want the fibonacci sequence to be printed out?\"))\n",
    "for num in range(1,x+1):\n",
    "    print(fibonacci(num))"
   ]
  },
  {
   "cell_type": "code",
   "execution_count": null,
   "metadata": {},
   "outputs": [],
   "source": [
    "def hill_number(num):\n",
    "    num_str = str(num)\n",
    "    peakindex = 0\n",
    "    for i in range(1, len(num_str) - 1):\n",
    "        if num_str[i] > num_str[i - 1] and num_str[i] > num_str[i + 1]:\n",
    "            peakindex = i\n",
    "            break\n",
    "    for j in range(peakindex):\n",
    "        if num_str[j] >= num_str[j + 1]:\n",
    "            return False\n",
    "    for k in range(peakindex, len(num_str) - 1):\n",
    "        if num_str[k] <= num_str[k + 1]:\n",
    "            return False\n",
    "\n",
    "    return True\n",
    "\n",
    "x=input(\"enter the hill number to be checked:\")\n",
    "if hill_number(x):\n",
    "    print(\"it is a hill number\")\n",
    "else:\n",
    "    print(\"the input is not a hill number\")\n"
   ]
  },
  {
   "cell_type": "code",
   "execution_count": null,
   "metadata": {},
   "outputs": [],
   "source": [
    "creditcardnum=input(\"enter your credit card number:\")\n",
    "sumofodd=0\n",
    "sumofeven=0\n",
    "creditcardnum=creditcardnum[::-1]\n",
    "for x in creditcardnum[::2]:\n",
    "    sumofodd+= int(x)\n",
    "for x in creditcardnum[1::2]:\n",
    "    x=int(x)*2\n",
    "    if x>=10:\n",
    "        sumofeven+=(1+(x%10))\n",
    "    else:\n",
    "        sumofeven+=x\n",
    "total=sumofodd+sumofeven\n",
    "checkvalidity=total%10\n",
    "if checkvalidity==0:\n",
    "    print(\"valid credit card number\")\n",
    "else:\n",
    "    print(\"invalid credit card number\")"
   ]
  },
  {
   "cell_type": "code",
   "execution_count": null,
   "metadata": {},
   "outputs": [],
   "source": [
    "def selection_sort(lista):\n",
    "    indexing=range(0,len(lista)-1)\n",
    "    for i in indexing:\n",
    "        min_value=i\n",
    "        for j in(i+1,len(lista)):\n",
    "            if lista[j]<lista[min_value]:\n",
    "                min_value=j\n",
    "        if min_value!=i:\n",
    "            lista[min_value],lista[i]=lista[i],lista[min_value]\n",
    "    return lista\n",
    "x=int(input(\"how many numbers do you want to enter:\"))\n",
    "lista=[]\n",
    "for i in range(x):\n",
    "    y=int(input(\"entry number \"+str(i+1)+\":\"))\n",
    "    lista.append(y)\n",
    "print(lista)\n",
    "print(selection_sort(lista))"
   ]
  },
  {
   "cell_type": "code",
   "execution_count": null,
   "metadata": {},
   "outputs": [],
   "source": [
    "word = (input(\"Type in something \")).lower()\n",
    "word = sorted(word)\n",
    "setword = set(word)\n",
    "print(\"\".join(word))\n",
    "for letter in wordset:\n",
    "    print(letter+\",\",word.count(letter))"
   ]
  }
 ],
 "metadata": {
  "language_info": {
   "name": "python"
  }
 },
 "nbformat": 4,
 "nbformat_minor": 2
}
